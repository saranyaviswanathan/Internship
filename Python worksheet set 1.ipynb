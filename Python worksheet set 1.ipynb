{
 "cells": [
  {
   "cell_type": "markdown",
   "id": "c8b71143",
   "metadata": {},
   "source": [
    "# PYTHON WORKSHEET SET 1"
   ]
  },
  {
   "cell_type": "markdown",
   "id": "10b872be",
   "metadata": {},
   "source": [
    "1. (C)\n",
    "2. (B)\n",
    "3. (C)\n",
    "4. (A)\n",
    "5. (D)\n",
    "6. (C)\n",
    "7. (A)\n",
    "8. (C)\n",
    "9. (A) and (C)\n",
    "10. (A) and (B)\n"
   ]
  },
  {
   "cell_type": "markdown",
   "id": "88b3c10d",
   "metadata": {},
   "source": [
    "14. Write a python program to get the third side of the right-angled triangle from two given sides"
   ]
  },
  {
   "cell_type": "code",
   "execution_count": 78,
   "id": "db4b2131",
   "metadata": {},
   "outputs": [
    {
     "name": "stdout",
     "output_type": "stream",
     "text": [
      "enter a3\n",
      "enter b4\n",
      "Third side of right angled triangle is 5.0\n"
     ]
    }
   ],
   "source": [
    "a=int(input(\"enter a\"))\n",
    "\n",
    "\n",
    "b=int(input(\"enter b\"))\n",
    "\n",
    "c=((a**2 + b**2)**(1/2))\n",
    "\n",
    "print(\"Third side of right angled triangle is\", c)\n"
   ]
  },
  {
   "cell_type": "markdown",
   "id": "4cdabaab",
   "metadata": {},
   "source": [
    "11.Write a python program to find the factorial of a number"
   ]
  },
  {
   "cell_type": "code",
   "execution_count": 46,
   "id": "e4017b59",
   "metadata": {},
   "outputs": [
    {
     "name": "stdout",
     "output_type": "stream",
     "text": [
      "enter any value3\n",
      "Factorial of the given number is 6\n"
     ]
    }
   ],
   "source": [
    "num=int(input(\"enter any value\"))\n",
    "fact=1\n",
    "for i in range(1,num+1):\n",
    "    fact=fact*i\n",
    "print(\"Factorial of the given number is\",fact)"
   ]
  },
  {
   "cell_type": "markdown",
   "id": "a5c31ddf",
   "metadata": {},
   "source": [
    "12. Write a python program to find whether the number is prime or composite"
   ]
  },
  {
   "cell_type": "code",
   "execution_count": 75,
   "id": "1f491d9c",
   "metadata": {},
   "outputs": [
    {
     "name": "stdout",
     "output_type": "stream",
     "text": [
      "Enter any value19\n",
      "a is prime\n"
     ]
    }
   ],
   "source": [
    "a= int (input(\"Enter any value\"))\n",
    "for i in range(2, int(a/2)+1):\n",
    " if(a%i==0):\n",
    "    print (\"a is composite\")\n",
    "    break\n",
    "else:\n",
    "  print(\"a is prime\")"
   ]
  },
  {
   "cell_type": "markdown",
   "id": "01ccc277",
   "metadata": {},
   "source": [
    "13.Write a python program to check whether a given string is palindrome or not"
   ]
  },
  {
   "cell_type": "code",
   "execution_count": 59,
   "id": "76c31275",
   "metadata": {},
   "outputs": [
    {
     "name": "stdout",
     "output_type": "stream",
     "text": [
      "enter any stringwow\n",
      "The given string is palindrome\n"
     ]
    }
   ],
   "source": [
    "def reverse(string):\n",
    "    string=\"\".join(reversed(string))\n",
    "    return string\n",
    "s=str(input(\"enter any string\"))\n",
    "if(s==reverse(s)):\n",
    "\n",
    "        print(\"The given string is palindrome\")\n",
    "else:\n",
    "        print(\"The given string is not palindrome\")\n",
    "    "
   ]
  },
  {
   "cell_type": "markdown",
   "id": "3172bc06",
   "metadata": {},
   "source": [
    "15. Write a python program to print the frequency of each of the characters in the given string"
   ]
  },
  {
   "cell_type": "code",
   "execution_count": 77,
   "id": "c40196c6",
   "metadata": {},
   "outputs": [
    {
     "name": "stdout",
     "output_type": "stream",
     "text": [
      "enter the stringsaranya\n",
      "{'s': 1, 'a': 3, 'r': 1, 'n': 1, 'y': 1}\n"
     ]
    }
   ],
   "source": [
    "string = input(\"enter the string\")\n",
    "n=dict()\n",
    "for i in string:\n",
    "    n[i]=n.get(i,0)+1\n",
    "print(n)"
   ]
  },
  {
   "cell_type": "code",
   "execution_count": null,
   "id": "4dcb38c9",
   "metadata": {},
   "outputs": [],
   "source": []
  },
  {
   "cell_type": "code",
   "execution_count": null,
   "id": "64f7476c",
   "metadata": {},
   "outputs": [],
   "source": []
  }
 ],
 "metadata": {
  "kernelspec": {
   "display_name": "Python 3 (ipykernel)",
   "language": "python",
   "name": "python3"
  },
  "language_info": {
   "codemirror_mode": {
    "name": "ipython",
    "version": 3
   },
   "file_extension": ".py",
   "mimetype": "text/x-python",
   "name": "python",
   "nbconvert_exporter": "python",
   "pygments_lexer": "ipython3",
   "version": "3.9.7"
  }
 },
 "nbformat": 4,
 "nbformat_minor": 5
}
